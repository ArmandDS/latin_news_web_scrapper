{
  "nbformat": 4,
  "nbformat_minor": 0,
  "metadata": {
    "colab": {
      "name": "web_scrapper_spanish_news.ipynb",
      "provenance": [],
      "collapsed_sections": [],
      "authorship_tag": "ABX9TyPHNI7fP11xemksfBB5wq5j",
      "include_colab_link": true
    },
    "kernelspec": {
      "name": "python3",
      "display_name": "Python 3"
    }
  },
  "cells": [
    {
      "cell_type": "markdown",
      "metadata": {
        "id": "view-in-github",
        "colab_type": "text"
      },
      "source": [
        "<a href=\"https://colab.research.google.com/github/ArmandDS/latin_news_web_scrapper/blob/master/web_scrapper_spanish_news.ipynb\" target=\"_parent\"><img src=\"https://colab.research.google.com/assets/colab-badge.svg\" alt=\"Open In Colab\"/></a>"
      ]
    },
    {
      "cell_type": "markdown",
      "metadata": {
        "id": "IqxWI8ogOzHP",
        "colab_type": "text"
      },
      "source": [
        "## Notebook for webscrapper news from 4 Latin America websites"
      ]
    },
    {
      "cell_type": "markdown",
      "metadata": {
        "id": "xtsRxO7fIeet",
        "colab_type": "text"
      },
      "source": [
        "\n",
        "Load the libraries\n"
      ]
    },
    {
      "cell_type": "code",
      "metadata": {
        "id": "EwCW70BECE3D",
        "colab_type": "code",
        "colab": {}
      },
      "source": [
        "import urllib.request as urlRequest\n",
        "import urllib.parse as urlParse\n",
        "import pandas as pd\n",
        "import numpy as np\n",
        "from bs4 import BeautifulSoup\n",
        "from datetime import datetime, timedelta\n",
        "from tqdm import tqdm\n"
      ],
      "execution_count": null,
      "outputs": []
    },
    {
      "cell_type": "markdown",
      "metadata": {
        "id": "vcrrkad0I5_-",
        "colab_type": "text"
      },
      "source": [
        "Define function to get the news articles from the website"
      ]
    },
    {
      "cell_type": "code",
      "metadata": {
        "id": "5EvZ-K6PI48S",
        "colab_type": "code",
        "colab": {}
      },
      "source": [
        "def get_article_content(url): \n",
        "  # pretend to be a chrome 47 browser on a windows 10 machine\n",
        "  headers = {\"User-Agent\": 'Mozilla/5.0 (Macintosh; Intel Mac OS X 10_10_5) AppleWebKit/537.36 (KHTML, like Gecko) Chrome/55.0.2883.95 Safari/537.36'}\n",
        "  # create the url\n",
        "  targetUrl = urlRequest.Request(url=url,headers=headers)\n",
        "\n",
        "  # open the url\n",
        "  x  = urlRequest.urlopen(targetUrl)\n",
        "\n",
        "  # read the response\n",
        "  response = x.read()\n",
        "  return response"
      ],
      "execution_count": null,
      "outputs": []
    },
    {
      "cell_type": "markdown",
      "metadata": {
        "id": "Gm78buuHKbI9",
        "colab_type": "text"
      },
      "source": [
        "Create the dataframe to save the data"
      ]
    },
    {
      "cell_type": "code",
      "metadata": {
        "id": "175XYXAPJHq0",
        "colab_type": "code",
        "colab": {}
      },
      "source": [
        "df_news_elcomercio = pd.DataFrame(columns= [\"title\", \"summary\", \"text\", \"link\", \"date\", \"name\"])"
      ],
      "execution_count": null,
      "outputs": []
    },
    {
      "cell_type": "markdown",
      "metadata": {
        "id": "WBSVbYagKh-D",
        "colab_type": "text"
      },
      "source": [
        "## Now let´s run the scrapper to get the data from the newspaper: El comercio from Perú"
      ]
    },
    {
      "cell_type": "code",
      "metadata": {
        "id": "GbQ7HqwIKTIN",
        "colab_type": "code",
        "colab": {
          "base_uri": "https://localhost:8080/",
          "height": 33
        },
        "outputId": "d3af144f-33a5-4802-8f72-c5da208ff05c"
      },
      "source": [
        "from datetime import datetime, timedelta\n",
        "s = '2020-09-01'\n",
        "count = 0\n",
        "modified_date = datetime.strptime(s, \"%Y-%m-%d\")\n",
        "for i in tqdm(range(0,30)):\n",
        "  modified_date = modified_date - timedelta(days=1)\n",
        "  url =\"https://elcomercio.pe/archivo/todas/\" + datetime.strftime(modified_date, \"%Y-%m-%d\")\n",
        "  # print(url)\n",
        "  response = get_article_content(url)\n",
        "  soup = BeautifulSoup(response, 'html.parser')\n",
        "  articles = soup.find_all(\"a\", class_=\"story-item__title\")\n",
        "  link_aux=\"\"\n",
        "  if i%10 == 0:\n",
        "    aux_print =1\n",
        "  else:\n",
        "    aux_print = 0\n",
        "  \n",
        "  for article in articles:\n",
        "    link = article.get('href')\n",
        "    if link and link!=link_aux and \"mundo/\" in link:\n",
        "      # print(link)\n",
        "      link_aux = link\n",
        "      url = \"https://elcomercio.pe\" + link\n",
        "      # print(url)\n",
        "      try:\n",
        "        response_article = get_article_content(url)\n",
        "        soup2 = BeautifulSoup(response_article, 'html.parser')\n",
        "        title = soup2.find_all(\"h1\", class_=\"sht__title\")[0].text\n",
        "        # print(title)\n",
        "        summary = soup2.find_all(\"h2\", class_=\"sht__summary\")[0].text\n",
        "      except KeyboardInterrupt:\n",
        "        break\n",
        "      except Exception as e:\n",
        "        continue\n",
        "      text = ''\n",
        "      for p in soup2.find_all(\"p\", class_=\"story-contents__font-paragraph\"):\n",
        "        text = text + \" \" + p.text  \n",
        "      df_news_elcomercio.at[count, 'title'] = title\n",
        "      df_news_elcomercio.at[count, 'summary'] = summary\n",
        "      df_news_elcomercio.at[count, 'text'] = text\n",
        "      df_news_elcomercio.at[count, 'link'] = url  \n",
        "      df_news_elcomercio.at[count, 'date'] = datetime.strftime(modified_date, \"%Y-%m-%d\")\n",
        "      df_news_elcomercio.at[count, 'name'] = \"el comercio\"\n",
        "      count +=1\n",
        "\n",
        "\n",
        "\n",
        "\n",
        "    "
      ],
      "execution_count": null,
      "outputs": [
        {
          "output_type": "stream",
          "text": [
            "100%|██████████| 30/30 [07:08<00:00, 14.27s/it]\n"
          ],
          "name": "stderr"
        }
      ]
    },
    {
      "cell_type": "code",
      "metadata": {
        "id": "vZQGvXWBKr_S",
        "colab_type": "code",
        "colab": {
          "base_uri": "https://localhost:8080/",
          "height": 191
        },
        "outputId": "9a5a61ca-4eb4-4686-92b2-1cf888fd3934"
      },
      "source": [
        "df_news_elcomercio.head()"
      ],
      "execution_count": null,
      "outputs": [
        {
          "output_type": "execute_result",
          "data": {
            "text/html": [
              "<div>\n",
              "<style scoped>\n",
              "    .dataframe tbody tr th:only-of-type {\n",
              "        vertical-align: middle;\n",
              "    }\n",
              "\n",
              "    .dataframe tbody tr th {\n",
              "        vertical-align: top;\n",
              "    }\n",
              "\n",
              "    .dataframe thead th {\n",
              "        text-align: right;\n",
              "    }\n",
              "</style>\n",
              "<table border=\"1\" class=\"dataframe\">\n",
              "  <thead>\n",
              "    <tr style=\"text-align: right;\">\n",
              "      <th></th>\n",
              "      <th>title</th>\n",
              "      <th>summary</th>\n",
              "      <th>text</th>\n",
              "      <th>link</th>\n",
              "      <th>date</th>\n",
              "      <th>name</th>\n",
              "    </tr>\n",
              "  </thead>\n",
              "  <tbody>\n",
              "    <tr>\n",
              "      <th>0</th>\n",
              "      <td>Coronavirus EN VIVO | Últimas noticias, casos...</td>\n",
              "      <td>Coronavirus EN VIVO en el mundo | Sigue aquí E...</td>\n",
              "      <td>Coronavirus EN VIVO | Sigue aquí EN DIRECTO l...</td>\n",
              "      <td>https://elcomercio.pe/mundo/coronavirus-en-viv...</td>\n",
              "      <td>2020-08-31</td>\n",
              "      <td>el comercio</td>\n",
              "    </tr>\n",
              "    <tr>\n",
              "      <th>1</th>\n",
              "      <td>La peculiar historia de Sealand, la pequeña m...</td>\n",
              "      <td>Con una superficie de solo 0,004 km2 y ubicado...</td>\n",
              "      <td>Esta historia comienza con un correo electrón...</td>\n",
              "      <td>https://elcomercio.pe/mundo/europa/sealand-la-...</td>\n",
              "      <td>2020-08-31</td>\n",
              "      <td>el comercio</td>\n",
              "    </tr>\n",
              "    <tr>\n",
              "      <th>2</th>\n",
              "      <td>Ciudadanos chinos son obligados a tomar medic...</td>\n",
              "      <td>El gobierno de la región de Xinjiang está toma...</td>\n",
              "      <td>El gobierno de la región de Xinjiang está tom...</td>\n",
              "      <td>https://elcomercio.pe/mundo/asia/coronavirus-e...</td>\n",
              "      <td>2020-08-31</td>\n",
              "      <td>el comercio</td>\n",
              "    </tr>\n",
              "    <tr>\n",
              "      <th>3</th>\n",
              "      <td>Venezuela: liberan a Roberto Marrero, jefe de...</td>\n",
              "      <td>El jefe del despacho del presidente interino, ...</td>\n",
              "      <td>Roberto Marrero, jefe del despacho del presid...</td>\n",
              "      <td>https://elcomercio.pe/mundo/venezuela/roberto-...</td>\n",
              "      <td>2020-08-31</td>\n",
              "      <td>el comercio</td>\n",
              "    </tr>\n",
              "    <tr>\n",
              "      <th>4</th>\n",
              "      <td>Venezuela: Maduro indulta a 110 dirigentes de...</td>\n",
              "      <td>Fuera de la larga lista de indultados, se han ...</td>\n",
              "      <td>Las autoridades venezolanas comenzaron a exca...</td>\n",
              "      <td>https://elcomercio.pe/mundo/venezuela/venezuel...</td>\n",
              "      <td>2020-08-31</td>\n",
              "      <td>el comercio</td>\n",
              "    </tr>\n",
              "  </tbody>\n",
              "</table>\n",
              "</div>"
            ],
            "text/plain": [
              "                                               title  ...         name\n",
              "0   Coronavirus EN VIVO | Últimas noticias, casos...  ...  el comercio\n",
              "1   La peculiar historia de Sealand, la pequeña m...  ...  el comercio\n",
              "2   Ciudadanos chinos son obligados a tomar medic...  ...  el comercio\n",
              "3   Venezuela: liberan a Roberto Marrero, jefe de...  ...  el comercio\n",
              "4   Venezuela: Maduro indulta a 110 dirigentes de...  ...  el comercio\n",
              "\n",
              "[5 rows x 6 columns]"
            ]
          },
          "metadata": {
            "tags": []
          },
          "execution_count": 9
        }
      ]
    },
    {
      "cell_type": "markdown",
      "metadata": {
        "id": "RabcJom1s05j",
        "colab_type": "text"
      },
      "source": [
        "## Get news from the newspaper: El Heraldo from México"
      ]
    },
    {
      "cell_type": "code",
      "metadata": {
        "id": "h6u7cpNY47hZ",
        "colab_type": "code",
        "colab": {}
      },
      "source": [
        "df_news_elheraldo = pd.DataFrame(columns= [\"title\", \"summary\", \"text\", \"link\", \"date\", \"name\"])"
      ],
      "execution_count": null,
      "outputs": []
    },
    {
      "cell_type": "code",
      "metadata": {
        "id": "jBbYWpa9hsLb",
        "colab_type": "code",
        "colab": {}
      },
      "source": [
        "url =\"https://heraldodemexico.com.mx/seccion/orbe/\"\n",
        "response = get_article_content(url)\n",
        "soup = BeautifulSoup(response, 'html.parser')"
      ],
      "execution_count": null,
      "outputs": []
    },
    {
      "cell_type": "code",
      "metadata": {
        "id": "aie6zIVC4-EU",
        "colab_type": "code",
        "colab": {
          "base_uri": "https://localhost:8080/",
          "height": 33
        },
        "outputId": "3a6af128-f23a-4f7a-e073-8ecb2479124a"
      },
      "source": [
        "\n",
        "for i in tqdm(range(17, 65)):\n",
        "  url =\"https://heraldodemexico.com.mx/seccion/orbe/pagina/\"+ str(i) \n",
        "  # print(url)\n",
        "  response = get_article_content(url)\n",
        "  soup = BeautifulSoup(response, 'html.parser')\n",
        "  columns = soup.find_all(\"article\", class_=\"article__archive\")\n",
        "  # print(columns)\n",
        "  if i%10 ==0:\n",
        "    aux = 1\n",
        "  else:\n",
        "    aux = 0\n",
        "  for col in columns:\n",
        "    a_tag = col.find(\"a\")\n",
        "    if a_tag:\n",
        "      link = a_tag.get(\"href\")\n",
        "#       print(link)\n",
        "      response_article = get_article_content(link)\n",
        "      soup2 = BeautifulSoup(response_article, 'html.parser')\n",
        "  #     print(soup2)\n",
        "      try:\n",
        "        title = soup2.find_all(\"h1\", class_=\"entry-title\")[0].text\n",
        "        summary = soup2.find_all(\"div\", class_=\"article__singular--teaser\")[0].text\n",
        "        div_text= soup2.find(\"div\", class_=\"article__singular--content clearfix\")\n",
        "        date  = soup2.find(\"time\", class_=\"updated\")\n",
        "        date = date.get(\"datetime\").split(\"T\")[0]\n",
        "        p_text  = div_text.find_all(\"p\")\n",
        "      except KeyboardInterrupt:\n",
        "        break\n",
        "      except:\n",
        "        # print(\"Error\")\n",
        "        continue\n",
        "      # if aux:\n",
        "      #   print(title)\n",
        "      text = ''\n",
        "      for p in p_text:\n",
        "        text = text + \" \"+ p.text\n",
        "#       print(text)\n",
        "      df_news_elheraldo.at[count, 'title'] = title\n",
        "      df_news_elheraldo.at[count, 'summary'] = summary\n",
        "      df_news_elheraldo.at[count, 'text'] = text\n",
        "      df_news_elheraldo.at[count, 'link'] = link  \n",
        "      df_news_elheraldo.at[count, 'date'] = date\n",
        "      df_news_elheraldo.at[count, 'name'] = \"el heraldo\"\n",
        "      count +=1"
      ],
      "execution_count": null,
      "outputs": [
        {
          "output_type": "stream",
          "text": [
            "100%|██████████| 48/48 [17:37<00:00, 22.02s/it]\n"
          ],
          "name": "stderr"
        }
      ]
    },
    {
      "cell_type": "code",
      "metadata": {
        "id": "iGrbuH8t7tAm",
        "colab_type": "code",
        "colab": {
          "base_uri": "https://localhost:8080/",
          "height": 191
        },
        "outputId": "a2a04566-9cb7-434e-bb99-52d7d7baabfd"
      },
      "source": [
        "df_news_elheraldo.head()"
      ],
      "execution_count": null,
      "outputs": [
        {
          "output_type": "execute_result",
          "data": {
            "text/html": [
              "<div>\n",
              "<style scoped>\n",
              "    .dataframe tbody tr th:only-of-type {\n",
              "        vertical-align: middle;\n",
              "    }\n",
              "\n",
              "    .dataframe tbody tr th {\n",
              "        vertical-align: top;\n",
              "    }\n",
              "\n",
              "    .dataframe thead th {\n",
              "        text-align: right;\n",
              "    }\n",
              "</style>\n",
              "<table border=\"1\" class=\"dataframe\">\n",
              "  <thead>\n",
              "    <tr style=\"text-align: right;\">\n",
              "      <th></th>\n",
              "      <th>title</th>\n",
              "      <th>summary</th>\n",
              "      <th>text</th>\n",
              "      <th>link</th>\n",
              "      <th>date</th>\n",
              "      <th>name</th>\n",
              "    </tr>\n",
              "  </thead>\n",
              "  <tbody>\n",
              "    <tr>\n",
              "      <th>601</th>\n",
              "      <td>¡Todo un galán! Nieto de John F. Kennedy cauti...</td>\n",
              "      <td>El joven de 27 años planea seguir con el legad...</td>\n",
              "      <td>John “Jack” Schlossberg Kennedy llamó poderos...</td>\n",
              "      <td>https://heraldodemexico.com.mx/orbe/nieto-john...</td>\n",
              "      <td>2020-09-01</td>\n",
              "      <td>el heraldo</td>\n",
              "    </tr>\n",
              "    <tr>\n",
              "      <th>602</th>\n",
              "      <td>Dinamarca considerará violación actos sexuales...</td>\n",
              "      <td>El consentimiento debe darse de forma voluntar...</td>\n",
              "      <td>El Gobierno socialdemócrata danés y sus tres ...</td>\n",
              "      <td>https://heraldodemexico.com.mx/orbe/dinamarca-...</td>\n",
              "      <td>2020-09-01</td>\n",
              "      <td>el heraldo</td>\n",
              "    </tr>\n",
              "    <tr>\n",
              "      <th>603</th>\n",
              "      <td>Mark Zuckerberg dona 300 millones dólares para...</td>\n",
              "      <td>La donación de Zuckerberg y Chen -y su anuncio...</td>\n",
              "      <td>El consejero delegado de Facebook, Mark Zucke...</td>\n",
              "      <td>https://heraldodemexico.com.mx/orbe/mark-zucke...</td>\n",
              "      <td>2020-09-01</td>\n",
              "      <td>el heraldo</td>\n",
              "    </tr>\n",
              "    <tr>\n",
              "      <th>604</th>\n",
              "      <td>¡Madre heroína! Desarma al secuestrador que qu...</td>\n",
              "      <td>La mujer no pudo evitar que se llevaran al peq...</td>\n",
              "      <td>Leslie Bamaca paseaba a Mateo Alejandro, su h...</td>\n",
              "      <td>https://heraldodemexico.com.mx/orbe/madre-hero...</td>\n",
              "      <td>2020-09-01</td>\n",
              "      <td>el heraldo</td>\n",
              "    </tr>\n",
              "    <tr>\n",
              "      <th>605</th>\n",
              "      <td>¡Hay trabajo en Australia! Vive en una paradis...</td>\n",
              "      <td>Los interesados para esta vacante pueden inscr...</td>\n",
              "      <td>Si el sueño de tu vida siempre ha sido vivir ...</td>\n",
              "      <td>https://heraldodemexico.com.mx/orbe/trabajo-au...</td>\n",
              "      <td>2020-09-01</td>\n",
              "      <td>el heraldo</td>\n",
              "    </tr>\n",
              "  </tbody>\n",
              "</table>\n",
              "</div>"
            ],
            "text/plain": [
              "                                                 title  ...        name\n",
              "601  ¡Todo un galán! Nieto de John F. Kennedy cauti...  ...  el heraldo\n",
              "602  Dinamarca considerará violación actos sexuales...  ...  el heraldo\n",
              "603  Mark Zuckerberg dona 300 millones dólares para...  ...  el heraldo\n",
              "604  ¡Madre heroína! Desarma al secuestrador que qu...  ...  el heraldo\n",
              "605  ¡Hay trabajo en Australia! Vive en una paradis...  ...  el heraldo\n",
              "\n",
              "[5 rows x 6 columns]"
            ]
          },
          "metadata": {
            "tags": []
          },
          "execution_count": 13
        }
      ]
    },
    {
      "cell_type": "markdown",
      "metadata": {
        "id": "80w2AexDAb9x",
        "colab_type": "text"
      },
      "source": [
        "##Get data from another newspaper: 'El nuevo Siglo' from Colombia"
      ]
    },
    {
      "cell_type": "code",
      "metadata": {
        "id": "U6KDGbn4KZjE",
        "colab_type": "code",
        "colab": {
          "base_uri": "https://localhost:8080/",
          "height": 180
        },
        "outputId": "22056ec4-e5ff-4888-cedb-2b6ac352e6a5"
      },
      "source": [
        "!pip install dateparser"
      ],
      "execution_count": null,
      "outputs": [
        {
          "output_type": "stream",
          "text": [
            "Collecting dateparser\n",
            "\u001b[?25l  Downloading https://files.pythonhosted.org/packages/c1/d5/5a2e51bc0058f66b54669735f739d27afc3eb453ab00520623c7ab168e22/dateparser-0.7.6-py2.py3-none-any.whl (362kB)\n",
            "\r\u001b[K     |█                               | 10kB 10.7MB/s eta 0:00:01\r\u001b[K     |█▉                              | 20kB 1.9MB/s eta 0:00:01\r\u001b[K     |██▊                             | 30kB 2.5MB/s eta 0:00:01\r\u001b[K     |███▋                            | 40kB 2.7MB/s eta 0:00:01\r\u001b[K     |████▌                           | 51kB 2.2MB/s eta 0:00:01\r\u001b[K     |█████▍                          | 61kB 2.5MB/s eta 0:00:01\r\u001b[K     |██████▍                         | 71kB 2.7MB/s eta 0:00:01\r\u001b[K     |███████▎                        | 81kB 2.9MB/s eta 0:00:01\r\u001b[K     |████████▏                       | 92kB 3.1MB/s eta 0:00:01\r\u001b[K     |█████████                       | 102kB 3.0MB/s eta 0:00:01\r\u001b[K     |██████████                      | 112kB 3.0MB/s eta 0:00:01\r\u001b[K     |██████████▉                     | 122kB 3.0MB/s eta 0:00:01\r\u001b[K     |███████████▊                    | 133kB 3.0MB/s eta 0:00:01\r\u001b[K     |████████████▊                   | 143kB 3.0MB/s eta 0:00:01\r\u001b[K     |█████████████▋                  | 153kB 3.0MB/s eta 0:00:01\r\u001b[K     |██████████████▌                 | 163kB 3.0MB/s eta 0:00:01\r\u001b[K     |███████████████▍                | 174kB 3.0MB/s eta 0:00:01\r\u001b[K     |████████████████▎               | 184kB 3.0MB/s eta 0:00:01\r\u001b[K     |█████████████████▏              | 194kB 3.0MB/s eta 0:00:01\r\u001b[K     |██████████████████              | 204kB 3.0MB/s eta 0:00:01\r\u001b[K     |███████████████████             | 215kB 3.0MB/s eta 0:00:01\r\u001b[K     |████████████████████            | 225kB 3.0MB/s eta 0:00:01\r\u001b[K     |████████████████████▉           | 235kB 3.0MB/s eta 0:00:01\r\u001b[K     |█████████████████████▊          | 245kB 3.0MB/s eta 0:00:01\r\u001b[K     |██████████████████████▋         | 256kB 3.0MB/s eta 0:00:01\r\u001b[K     |███████████████████████▌        | 266kB 3.0MB/s eta 0:00:01\r\u001b[K     |████████████████████████▍       | 276kB 3.0MB/s eta 0:00:01\r\u001b[K     |█████████████████████████▍      | 286kB 3.0MB/s eta 0:00:01\r\u001b[K     |██████████████████████████▎     | 296kB 3.0MB/s eta 0:00:01\r\u001b[K     |███████████████████████████▏    | 307kB 3.0MB/s eta 0:00:01\r\u001b[K     |████████████████████████████    | 317kB 3.0MB/s eta 0:00:01\r\u001b[K     |█████████████████████████████   | 327kB 3.0MB/s eta 0:00:01\r\u001b[K     |█████████████████████████████▉  | 337kB 3.0MB/s eta 0:00:01\r\u001b[K     |██████████████████████████████▊ | 348kB 3.0MB/s eta 0:00:01\r\u001b[K     |███████████████████████████████▊| 358kB 3.0MB/s eta 0:00:01\r\u001b[K     |████████████████████████████████| 368kB 3.0MB/s \n",
            "\u001b[?25hRequirement already satisfied: regex!=2019.02.19 in /usr/local/lib/python3.6/dist-packages (from dateparser) (2019.12.20)\n",
            "Requirement already satisfied: tzlocal in /usr/local/lib/python3.6/dist-packages (from dateparser) (1.5.1)\n",
            "Requirement already satisfied: python-dateutil in /usr/local/lib/python3.6/dist-packages (from dateparser) (2.8.1)\n",
            "Requirement already satisfied: pytz in /usr/local/lib/python3.6/dist-packages (from dateparser) (2018.9)\n",
            "Requirement already satisfied: six>=1.5 in /usr/local/lib/python3.6/dist-packages (from python-dateutil->dateparser) (1.15.0)\n",
            "Installing collected packages: dateparser\n",
            "Successfully installed dateparser-0.7.6\n"
          ],
          "name": "stdout"
        }
      ]
    },
    {
      "cell_type": "code",
      "metadata": {
        "id": "TIBl96ycANJK",
        "colab_type": "code",
        "colab": {
          "base_uri": "https://localhost:8080/",
          "height": 33
        },
        "outputId": "1969c180-eb8c-4dd9-e1bf-49063726710c"
      },
      "source": [
        "url =\"https://www.elnuevosiglo.com.co/seccion/internacional?page=2\"\n",
        "print(url)\n",
        "response = get_article_content(url)\n",
        "soup = BeautifulSoup(response, 'html.parser')\n"
      ],
      "execution_count": null,
      "outputs": [
        {
          "output_type": "stream",
          "text": [
            "https://www.elnuevosiglo.com.co/seccion/internacional?page=2\n"
          ],
          "name": "stdout"
        }
      ]
    },
    {
      "cell_type": "code",
      "metadata": {
        "id": "6kXUyCucA4sp",
        "colab_type": "code",
        "colab": {}
      },
      "source": [
        "df_news_elnuevosiglo = pd.DataFrame(columns= [\"title\", \"summary\", \"text\", \"link\", \"date\", \"name\"])"
      ],
      "execution_count": null,
      "outputs": []
    },
    {
      "cell_type": "code",
      "metadata": {
        "id": "9SpQzJ6yDLcd",
        "colab_type": "code",
        "colab": {
          "base_uri": "https://localhost:8080/",
          "height": 33
        },
        "outputId": "3ff97d93-a89b-4ebf-cfe2-0ff8cb913c09"
      },
      "source": [
        "import dateparser\n",
        "import datetime\n",
        "\n",
        "for i in tqdm(range(9, 36)):\n",
        "  url =\"https://www.elnuevosiglo.com.co/seccion/internacional?page=\" +str(i)\n",
        "  # print(url)\n",
        "  response = get_article_content(url)\n",
        "  soup = BeautifulSoup(response, 'html.parser')\n",
        "  columns = soup.find_all(\"article\")\n",
        "  if i%10 ==0:\n",
        "    aux = 1\n",
        "  else:\n",
        "    aux = 0\n",
        "  for col in columns:\n",
        "    try:\n",
        "      a_tag = col.find(\"a\")\n",
        "#       print(a_tag.get('href'))\n",
        "      #Sumary   \n",
        "      summary = col.find_all(\"div\", class_=\"field--type-text-with-summary\")[0].text\n",
        "#       print(summary)\n",
        "      link = 'https://www.elnuevosiglo.com.co/' + a_tag.get('href')\n",
        "      response_article = get_article_content(link)\n",
        "      soup2 = BeautifulSoup(response_article, 'html.parser')\n",
        "      title = soup2.find_all(\"h1\", class_=\"page-title\")[0].text\n",
        "      div_date = soup2.find_all(\"div\", class_=\"info-line\")[2].text\n",
        "      date  = str(dateparser.parse(div_date, languages=[ 'es'],  date_formats=['%Y-%m-%d'])).split(\" \")[0]\n",
        "      div_text = soup2.find(\"div\", class_=\"field--type-text-with-summary\")\n",
        "      p_text  = div_text.find_all(\"p\")\n",
        "      text = ''\n",
        "      for p in p_text:\n",
        "        text = text + \" \"+ p.text\n",
        "      # if aux:\n",
        "      #   print(title)\n",
        "    except KeyboardInterrupt:\n",
        "      break\n",
        "    except:\n",
        "      print(\"Error\")\n",
        "      continue   \n",
        "\n",
        "    df_news_elnuevosiglo.at[count, 'title'] = title\n",
        "    df_news_elnuevosiglo.at[count, 'summary'] = summary\n",
        "    df_news_elnuevosiglo.at[count, 'text'] = text\n",
        "    df_news_elnuevosiglo.at[count, 'link'] = link  \n",
        "    df_news_elnuevosiglo.at[count, 'date'] = date\n",
        "    df_news_elnuevosiglo.at[count, 'name'] = \"el nuevo siglo\"\n",
        "    count +=1\n"
      ],
      "execution_count": null,
      "outputs": [
        {
          "output_type": "stream",
          "text": [
            "100%|██████████| 27/27 [04:46<00:00, 10.63s/it]\n"
          ],
          "name": "stderr"
        }
      ]
    },
    {
      "cell_type": "code",
      "metadata": {
        "id": "2a-BAyctM6w7",
        "colab_type": "code",
        "colab": {
          "base_uri": "https://localhost:8080/",
          "height": 191
        },
        "outputId": "bb7e995a-efc4-43c3-b0c3-77cd21d1e6b9"
      },
      "source": [
        "df_news_elnuevosiglo.tail()"
      ],
      "execution_count": null,
      "outputs": [
        {
          "output_type": "execute_result",
          "data": {
            "text/html": [
              "<div>\n",
              "<style scoped>\n",
              "    .dataframe tbody tr th:only-of-type {\n",
              "        vertical-align: middle;\n",
              "    }\n",
              "\n",
              "    .dataframe tbody tr th {\n",
              "        vertical-align: top;\n",
              "    }\n",
              "\n",
              "    .dataframe thead th {\n",
              "        text-align: right;\n",
              "    }\n",
              "</style>\n",
              "<table border=\"1\" class=\"dataframe\">\n",
              "  <thead>\n",
              "    <tr style=\"text-align: right;\">\n",
              "      <th></th>\n",
              "      <th>title</th>\n",
              "      <th>summary</th>\n",
              "      <th>text</th>\n",
              "      <th>link</th>\n",
              "      <th>date</th>\n",
              "      <th>name</th>\n",
              "    </tr>\n",
              "  </thead>\n",
              "  <tbody>\n",
              "    <tr>\n",
              "      <th>1344</th>\n",
              "      <td>\\n\\nAlemania suspende su tratado de extradició...</td>\n",
              "      <td>Esto en reacción a la imposición por parte de ...</td>\n",
              "      <td>Alemania anunció el viernes que suspendía el ...</td>\n",
              "      <td>https://www.elnuevosiglo.com.co//articulos/07-...</td>\n",
              "      <td>2020-07-31</td>\n",
              "      <td>el nuevo siglo</td>\n",
              "    </tr>\n",
              "    <tr>\n",
              "      <th>1345</th>\n",
              "      <td>\\n\\nLos jóvenes no son invencibles al coronavi...</td>\n",
              "      <td>El director general de la OMS, Tedros Adhanom ...</td>\n",
              "      <td>El director general de la Organización Mundia...</td>\n",
              "      <td>https://www.elnuevosiglo.com.co//articulos/07-...</td>\n",
              "      <td>2020-07-31</td>\n",
              "      <td>el nuevo siglo</td>\n",
              "    </tr>\n",
              "    <tr>\n",
              "      <th>1346</th>\n",
              "      <td>\\n\\nReino Unido aplaza desconfinamiento por au...</td>\n",
              "      <td>El líder conservador Boris Johnson dijo, en co...</td>\n",
              "      <td>El gobierno británico decidió aplazar al meno...</td>\n",
              "      <td>https://www.elnuevosiglo.com.co//articulos/07-...</td>\n",
              "      <td>2020-07-31</td>\n",
              "      <td>el nuevo siglo</td>\n",
              "    </tr>\n",
              "    <tr>\n",
              "      <th>1347</th>\n",
              "      <td>\\n\\nVetadas candidaturas en Hong Kong\\n</td>\n",
              "      <td>Doce candidatos prodemocracia de Hong Kong fue...</td>\n",
              "      <td>Doce candidatos prodemocracia de Hong Kong fu...</td>\n",
              "      <td>https://www.elnuevosiglo.com.co//articulos/07-...</td>\n",
              "      <td>2020-07-31</td>\n",
              "      <td>el nuevo siglo</td>\n",
              "    </tr>\n",
              "    <tr>\n",
              "      <th>1348</th>\n",
              "      <td>\\n\\n¿Aplazar las elecciones en Estados Unidos? \\n</td>\n",
              "      <td>La sugerencia del mandatario de postergar las ...</td>\n",
              "      <td>El presidente de los Estados Unidos, Donald T...</td>\n",
              "      <td>https://www.elnuevosiglo.com.co//articulos/07-...</td>\n",
              "      <td>2020-07-31</td>\n",
              "      <td>el nuevo siglo</td>\n",
              "    </tr>\n",
              "  </tbody>\n",
              "</table>\n",
              "</div>"
            ],
            "text/plain": [
              "                                                  title  ...            name\n",
              "1344  \\n\\nAlemania suspende su tratado de extradició...  ...  el nuevo siglo\n",
              "1345  \\n\\nLos jóvenes no son invencibles al coronavi...  ...  el nuevo siglo\n",
              "1346  \\n\\nReino Unido aplaza desconfinamiento por au...  ...  el nuevo siglo\n",
              "1347            \\n\\nVetadas candidaturas en Hong Kong\\n  ...  el nuevo siglo\n",
              "1348  \\n\\n¿Aplazar las elecciones en Estados Unidos? \\n  ...  el nuevo siglo\n",
              "\n",
              "[5 rows x 6 columns]"
            ]
          },
          "metadata": {
            "tags": []
          },
          "execution_count": 18
        }
      ]
    },
    {
      "cell_type": "markdown",
      "metadata": {
        "id": "r3R9bGybM8zv",
        "colab_type": "text"
      },
      "source": [
        "## Now get the data from \"la prensa grafica\" from El Salvador"
      ]
    },
    {
      "cell_type": "code",
      "metadata": {
        "id": "EdgsxsfVKpuC",
        "colab_type": "code",
        "colab": {
          "base_uri": "https://localhost:8080/",
          "height": 50
        },
        "outputId": "695d3152-9fe5-443b-88f7-e145092a64dd"
      },
      "source": [
        "url = 'https://www.laprensagrafica.com/ajax/get_section_news.html?viewmore=%2Fajax%2Fget_section_news.html&page=1&size=12&section=internacional'\n",
        "\n",
        "print(url)\n",
        "response = get_article_content(url)\n",
        "soup = BeautifulSoup(response, 'html.parser')\n",
        "article= soup.find_all(\"article\")\n",
        "print(len(article))"
      ],
      "execution_count": null,
      "outputs": [
        {
          "output_type": "stream",
          "text": [
            "https://www.laprensagrafica.com/ajax/get_section_news.html?viewmore=%2Fajax%2Fget_section_news.html&page=1&size=12&section=internacional\n",
            "12\n"
          ],
          "name": "stdout"
        }
      ]
    },
    {
      "cell_type": "code",
      "metadata": {
        "id": "Z-u0SB3YN1xy",
        "colab_type": "code",
        "colab": {}
      },
      "source": [
        "df_news_laprensagrafica = pd.DataFrame(columns= [\"title\", \"summary\", \"text\", \"link\", \"date\", \"name\"])"
      ],
      "execution_count": null,
      "outputs": []
    },
    {
      "cell_type": "code",
      "metadata": {
        "id": "6JjwuLbGmAjm",
        "colab_type": "code",
        "colab": {
          "base_uri": "https://localhost:8080/",
          "height": 33
        },
        "outputId": "36257b36-1446-475f-c914-ee15bdbf5ad1"
      },
      "source": [
        "count= 0\n",
        "\n",
        "for i in tqdm(range(10, 36)):\n",
        "  url ='https://www.laprensagrafica.com/ajax/get_section_news.html?viewmore=%2Fajax%2Fget_section_news.html&page='+str(i)+'&size=12&section=internacional'\n",
        "  # print(url)\n",
        "  response = get_article_content(url)\n",
        "  soup = BeautifulSoup(response, 'html.parser')\n",
        "  columns = soup.find_all(\"article\")\n",
        "  if i%10 ==0:\n",
        "    aux = 1\n",
        "  else:\n",
        "    aux = 0\n",
        "  for col in columns:\n",
        "    try:\n",
        "      a_tag = col.find(\"a\")\n",
        "  #       print(a_tag)\n",
        "      link = 'https://www.laprensagrafica.com' + a_tag.get('href')\n",
        "      response_article = get_article_content(link)\n",
        "      soup2 = BeautifulSoup(response_article, 'html.parser')\n",
        "      soup3 = soup2.find_all(\"article\", class_='news-full')[0]\n",
        "      title = soup3.find(\"h1\", class_ = 'news-title' ).text.strip()\n",
        "      summary= soup3.find(\"div\", class_=\"news-excerpt\").text.strip()\n",
        "      date = soup3.find(\"time\", class_=\"news-date\").get('datetime').split(\"T\")[0]\n",
        "      div_text = soup3.find(\"div\", class_=\"news-body\")\n",
        "      p_text  = div_text.find_all(\"p\")\n",
        "    except KeyboardInterrupt:\n",
        "      break\n",
        "    except:\n",
        "      print(\"Error\")\n",
        "      continue  \n",
        "    text = ''\n",
        "    for p in p_text:\n",
        "      text = text + \" \"+ p.text.strip()\n",
        "    # if aux:\n",
        "    #   print(title)\n",
        "  \n",
        "    df_news_laprensagrafica.at[count, 'title'] = title\n",
        "    df_news_laprensagrafica.at[count, 'summary'] = summary\n",
        "    df_news_laprensagrafica.at[count, 'text'] = text\n",
        "    df_news_laprensagrafica.at[count, 'link'] = link  \n",
        "    df_news_laprensagrafica.at[count, 'date'] = date\n",
        "    df_news_laprensagrafica.at[count, 'name'] = \"la prensa grafica\"\n",
        "    count +=1"
      ],
      "execution_count": null,
      "outputs": [
        {
          "output_type": "stream",
          "text": [
            "100%|██████████| 26/26 [02:31<00:00,  5.85s/it]\n"
          ],
          "name": "stderr"
        }
      ]
    },
    {
      "cell_type": "code",
      "metadata": {
        "id": "8hyefnBSmeCS",
        "colab_type": "code",
        "colab": {
          "base_uri": "https://localhost:8080/",
          "height": 191
        },
        "outputId": "e03807c4-c807-41b7-85ab-9647587334b5"
      },
      "source": [
        "df_news_laprensagrafica.head()"
      ],
      "execution_count": null,
      "outputs": [
        {
          "output_type": "execute_result",
          "data": {
            "text/html": [
              "<div>\n",
              "<style scoped>\n",
              "    .dataframe tbody tr th:only-of-type {\n",
              "        vertical-align: middle;\n",
              "    }\n",
              "\n",
              "    .dataframe tbody tr th {\n",
              "        vertical-align: top;\n",
              "    }\n",
              "\n",
              "    .dataframe thead th {\n",
              "        text-align: right;\n",
              "    }\n",
              "</style>\n",
              "<table border=\"1\" class=\"dataframe\">\n",
              "  <thead>\n",
              "    <tr style=\"text-align: right;\">\n",
              "      <th></th>\n",
              "      <th>title</th>\n",
              "      <th>summary</th>\n",
              "      <th>text</th>\n",
              "      <th>link</th>\n",
              "      <th>date</th>\n",
              "      <th>name</th>\n",
              "    </tr>\n",
              "  </thead>\n",
              "  <tbody>\n",
              "    <tr>\n",
              "      <th>0</th>\n",
              "      <td>Gobierno de Venezuela indulta a diputados opos...</td>\n",
              "      <td>Entre los indultados, se encuentran los legisl...</td>\n",
              "      <td>El Gobierno de Venezuela indultó este lunes, ...</td>\n",
              "      <td>https://www.laprensagrafica.com/internacional/...</td>\n",
              "      <td>2020-08-31</td>\n",
              "      <td>la prensa grafica</td>\n",
              "    </tr>\n",
              "    <tr>\n",
              "      <th>1</th>\n",
              "      <td>FOTOS | Sale primer histórico vuelo comercial ...</td>\n",
              "      <td>El acuerdo de normalización de normalización e...</td>\n",
              "      <td>Un avión de El Al adornado con una Estrella d...</td>\n",
              "      <td>https://www.laprensagrafica.com/internacional/...</td>\n",
              "      <td>2020-08-31</td>\n",
              "      <td>la prensa grafica</td>\n",
              "    </tr>\n",
              "    <tr>\n",
              "      <th>2</th>\n",
              "      <td>Video: una niña quedó enganchada en un barrile...</td>\n",
              "      <td>Ocurrió en el Festival Internacional de Cometa...</td>\n",
              "      <td>Pudo haber terminado en tragedia, pero afortu...</td>\n",
              "      <td>https://www.laprensagrafica.com/internacional/...</td>\n",
              "      <td>2020-08-30</td>\n",
              "      <td>la prensa grafica</td>\n",
              "    </tr>\n",
              "    <tr>\n",
              "      <th>3</th>\n",
              "      <td>Coronavirus: el mundo supera los 25 millones d...</td>\n",
              "      <td>El mayor número de casos se registran en Estad...</td>\n",
              "      <td>El número de casos confirmados de covid-19 ya...</td>\n",
              "      <td>https://www.laprensagrafica.com/internacional/...</td>\n",
              "      <td>2020-08-30</td>\n",
              "      <td>la prensa grafica</td>\n",
              "    </tr>\n",
              "    <tr>\n",
              "      <th>4</th>\n",
              "      <td>Trump y Biden se ven ganadores en recta final</td>\n",
              "      <td>La pandemia del covid-19 marca la campaña. Dem...</td>\n",
              "      <td>El presidente Donald Trump y el demócrata Joe...</td>\n",
              "      <td>https://www.laprensagrafica.com/internacional/...</td>\n",
              "      <td>2020-08-30</td>\n",
              "      <td>la prensa grafica</td>\n",
              "    </tr>\n",
              "  </tbody>\n",
              "</table>\n",
              "</div>"
            ],
            "text/plain": [
              "                                               title  ...               name\n",
              "0  Gobierno de Venezuela indulta a diputados opos...  ...  la prensa grafica\n",
              "1  FOTOS | Sale primer histórico vuelo comercial ...  ...  la prensa grafica\n",
              "2  Video: una niña quedó enganchada en un barrile...  ...  la prensa grafica\n",
              "3  Coronavirus: el mundo supera los 25 millones d...  ...  la prensa grafica\n",
              "4      Trump y Biden se ven ganadores en recta final  ...  la prensa grafica\n",
              "\n",
              "[5 rows x 6 columns]"
            ]
          },
          "metadata": {
            "tags": []
          },
          "execution_count": 22
        }
      ]
    },
    {
      "cell_type": "markdown",
      "metadata": {
        "id": "K1G3Ca4toQ84",
        "colab_type": "text"
      },
      "source": [
        "# Merge all the dataframe and save to it "
      ]
    },
    {
      "cell_type": "markdown",
      "metadata": {
        "id": "A1AqV2o6x57z",
        "colab_type": "text"
      },
      "source": [
        "Shape of the each dataframe:"
      ]
    },
    {
      "cell_type": "code",
      "metadata": {
        "id": "3FGzhR5hxX9L",
        "colab_type": "code",
        "colab": {
          "base_uri": "https://localhost:8080/",
          "height": 33
        },
        "outputId": "64c1cba3-acb2-4556-d2e3-2fe195777c32"
      },
      "source": [
        "df_news_elcomercio.shape"
      ],
      "execution_count": null,
      "outputs": [
        {
          "output_type": "execute_result",
          "data": {
            "text/plain": [
              "(601, 6)"
            ]
          },
          "metadata": {
            "tags": []
          },
          "execution_count": 23
        }
      ]
    },
    {
      "cell_type": "code",
      "metadata": {
        "id": "tZoMG3_yyAmV",
        "colab_type": "code",
        "colab": {
          "base_uri": "https://localhost:8080/",
          "height": 33
        },
        "outputId": "f610b19c-a9c1-4c1a-efe7-4b0d35e5c70b"
      },
      "source": [
        "df_news_elheraldo.shape"
      ],
      "execution_count": null,
      "outputs": [
        {
          "output_type": "execute_result",
          "data": {
            "text/plain": [
              "(478, 6)"
            ]
          },
          "metadata": {
            "tags": []
          },
          "execution_count": 24
        }
      ]
    },
    {
      "cell_type": "code",
      "metadata": {
        "id": "Y6ayNUZUyYG_",
        "colab_type": "code",
        "colab": {
          "base_uri": "https://localhost:8080/",
          "height": 33
        },
        "outputId": "c608b1ba-7cd6-40f3-a1d7-59551baff1df"
      },
      "source": [
        "df_news_elnuevosiglo.shape"
      ],
      "execution_count": null,
      "outputs": [
        {
          "output_type": "execute_result",
          "data": {
            "text/plain": [
              "(270, 6)"
            ]
          },
          "metadata": {
            "tags": []
          },
          "execution_count": 25
        }
      ]
    },
    {
      "cell_type": "code",
      "metadata": {
        "id": "OQwQPJNPyfs9",
        "colab_type": "code",
        "colab": {
          "base_uri": "https://localhost:8080/",
          "height": 33
        },
        "outputId": "378fc8dd-b259-4f8c-9147-2eaf1ba2bf46"
      },
      "source": [
        "df_news_laprensagrafica.shape"
      ],
      "execution_count": null,
      "outputs": [
        {
          "output_type": "execute_result",
          "data": {
            "text/plain": [
              "(287, 6)"
            ]
          },
          "metadata": {
            "tags": []
          },
          "execution_count": 26
        }
      ]
    },
    {
      "cell_type": "markdown",
      "metadata": {
        "id": "wKjbRZXRyk0c",
        "colab_type": "text"
      },
      "source": [
        "Now, merge into 1:"
      ]
    },
    {
      "cell_type": "code",
      "metadata": {
        "id": "hteyIMssnR0D",
        "colab_type": "code",
        "colab": {
          "base_uri": "https://localhost:8080/",
          "height": 33
        },
        "outputId": "7092e709-2bbb-44c4-9583-59de180af05d"
      },
      "source": [
        "df_all_dataframes = pd.concat([ df_news_elcomercio, df_news_elheraldo, df_news_elnuevosiglo, df_news_laprensagrafica], ignore_index=True)\n",
        "df_all_dataframes.shape"
      ],
      "execution_count": null,
      "outputs": [
        {
          "output_type": "execute_result",
          "data": {
            "text/plain": [
              "(1636, 6)"
            ]
          },
          "metadata": {
            "tags": []
          },
          "execution_count": 27
        }
      ]
    },
    {
      "cell_type": "code",
      "metadata": {
        "id": "2NMJiy4jyrH9",
        "colab_type": "code",
        "colab": {}
      },
      "source": [
        "df_all_dataframes.to_csv(\"df_all_dataframe.csv\")"
      ],
      "execution_count": null,
      "outputs": []
    },
    {
      "cell_type": "code",
      "metadata": {
        "id": "ucXFgRpXy5WR",
        "colab_type": "code",
        "colab": {
          "base_uri": "https://localhost:8080/",
          "height": 33
        },
        "outputId": "f2d28fd3-5584-4340-9605-8878a47e088a"
      },
      "source": [
        "from google.colab import files\n",
        "\n",
        "files.download('df_all_dataframe.csv')"
      ],
      "execution_count": null,
      "outputs": [
        {
          "output_type": "display_data",
          "data": {
            "application/javascript": [
              "\n",
              "    async function download(id, filename, size) {\n",
              "      if (!google.colab.kernel.accessAllowed) {\n",
              "        return;\n",
              "      }\n",
              "      const div = document.createElement('div');\n",
              "      const label = document.createElement('label');\n",
              "      label.textContent = `Downloading \"${filename}\": `;\n",
              "      div.appendChild(label);\n",
              "      const progress = document.createElement('progress');\n",
              "      progress.max = size;\n",
              "      div.appendChild(progress);\n",
              "      document.body.appendChild(div);\n",
              "\n",
              "      const buffers = [];\n",
              "      let downloaded = 0;\n",
              "\n",
              "      const channel = await google.colab.kernel.comms.open(id);\n",
              "      // Send a message to notify the kernel that we're ready.\n",
              "      channel.send({})\n",
              "\n",
              "      for await (const message of channel.messages) {\n",
              "        // Send a message to notify the kernel that we're ready.\n",
              "        channel.send({})\n",
              "        if (message.buffers) {\n",
              "          for (const buffer of message.buffers) {\n",
              "            buffers.push(buffer);\n",
              "            downloaded += buffer.byteLength;\n",
              "            progress.value = downloaded;\n",
              "          }\n",
              "        }\n",
              "      }\n",
              "      const blob = new Blob(buffers, {type: 'application/binary'});\n",
              "      const a = document.createElement('a');\n",
              "      a.href = window.URL.createObjectURL(blob);\n",
              "      a.download = filename;\n",
              "      div.appendChild(a);\n",
              "      a.click();\n",
              "      div.remove();\n",
              "    }\n",
              "  "
            ],
            "text/plain": [
              "<IPython.core.display.Javascript object>"
            ]
          },
          "metadata": {
            "tags": []
          }
        },
        {
          "output_type": "display_data",
          "data": {
            "application/javascript": [
              "download(\"download_5df981e2-9f54-4ed4-bb86-d2bd864dd73e\", \"df_all_dataframe.csv\", 5912156)"
            ],
            "text/plain": [
              "<IPython.core.display.Javascript object>"
            ]
          },
          "metadata": {
            "tags": []
          }
        }
      ]
    }
  ]
}